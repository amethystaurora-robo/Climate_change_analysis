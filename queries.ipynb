{
 "cells": [
  {
   "cell_type": "code",
   "execution_count": 1,
   "id": "5d90e721-3010-435b-b117-ed8615d9f992",
   "metadata": {},
   "outputs": [],
   "source": [
    "import sqlite3\n",
    "import pandas as pd"
   ]
  },
  {
   "cell_type": "code",
   "execution_count": 2,
   "id": "2b019016-b03b-4417-b056-36a09a069f08",
   "metadata": {},
   "outputs": [],
   "source": [
    "climate = pd.read_csv('sst.csv')"
   ]
  },
  {
   "cell_type": "code",
   "execution_count": 3,
   "id": "ef01cc64-f361-41ea-b76f-e5a0b2156650",
   "metadata": {},
   "outputs": [
    {
     "data": {
      "text/plain": [
       "39864997"
      ]
     },
     "execution_count": 3,
     "metadata": {},
     "output_type": "execute_result"
    }
   ],
   "source": [
    "# Create a connection to an in-memory SQLite database\n",
    "conn = sqlite3.connect(\":memory:\")\n",
    "\n",
    "# Write the DataFrame to the database as a table\n",
    "climate.to_sql(\"climate\", conn, index=False, if_exists=\"replace\")"
   ]
  },
  {
   "cell_type": "code",
   "execution_count": 4,
   "id": "831bd9f4-327b-4f77-a76b-4a308e72d58d",
   "metadata": {},
   "outputs": [
    {
     "data": {
      "text/html": [
       "<div>\n",
       "<style scoped>\n",
       "    .dataframe tbody tr th:only-of-type {\n",
       "        vertical-align: middle;\n",
       "    }\n",
       "\n",
       "    .dataframe tbody tr th {\n",
       "        vertical-align: top;\n",
       "    }\n",
       "\n",
       "    .dataframe thead th {\n",
       "        text-align: right;\n",
       "    }\n",
       "</style>\n",
       "<table border=\"1\" class=\"dataframe\">\n",
       "  <thead>\n",
       "    <tr style=\"text-align: right;\">\n",
       "      <th></th>\n",
       "      <th>lat</th>\n",
       "      <th>lon</th>\n",
       "      <th>time</th>\n",
       "      <th>nbnds</th>\n",
       "      <th>time_bnds</th>\n",
       "      <th>sst</th>\n",
       "    </tr>\n",
       "  </thead>\n",
       "  <tbody>\n",
       "    <tr>\n",
       "      <th>0</th>\n",
       "      <td>88.0</td>\n",
       "      <td>0.0</td>\n",
       "      <td>1854-01-01</td>\n",
       "      <td>0</td>\n",
       "      <td>9.969210e+36</td>\n",
       "      <td>-1.8</td>\n",
       "    </tr>\n",
       "    <tr>\n",
       "      <th>1</th>\n",
       "      <td>88.0</td>\n",
       "      <td>0.0</td>\n",
       "      <td>1854-01-01</td>\n",
       "      <td>1</td>\n",
       "      <td>9.969210e+36</td>\n",
       "      <td>-1.8</td>\n",
       "    </tr>\n",
       "    <tr>\n",
       "      <th>2</th>\n",
       "      <td>88.0</td>\n",
       "      <td>0.0</td>\n",
       "      <td>1854-02-01</td>\n",
       "      <td>0</td>\n",
       "      <td>9.969210e+36</td>\n",
       "      <td>-1.8</td>\n",
       "    </tr>\n",
       "    <tr>\n",
       "      <th>3</th>\n",
       "      <td>88.0</td>\n",
       "      <td>0.0</td>\n",
       "      <td>1854-02-01</td>\n",
       "      <td>1</td>\n",
       "      <td>9.969210e+36</td>\n",
       "      <td>-1.8</td>\n",
       "    </tr>\n",
       "    <tr>\n",
       "      <th>4</th>\n",
       "      <td>88.0</td>\n",
       "      <td>0.0</td>\n",
       "      <td>1854-03-01</td>\n",
       "      <td>0</td>\n",
       "      <td>9.969210e+36</td>\n",
       "      <td>-1.8</td>\n",
       "    </tr>\n",
       "  </tbody>\n",
       "</table>\n",
       "</div>"
      ],
      "text/plain": [
       "    lat  lon        time  nbnds     time_bnds  sst\n",
       "0  88.0  0.0  1854-01-01      0  9.969210e+36 -1.8\n",
       "1  88.0  0.0  1854-01-01      1  9.969210e+36 -1.8\n",
       "2  88.0  0.0  1854-02-01      0  9.969210e+36 -1.8\n",
       "3  88.0  0.0  1854-02-01      1  9.969210e+36 -1.8\n",
       "4  88.0  0.0  1854-03-01      0  9.969210e+36 -1.8"
      ]
     },
     "execution_count": 4,
     "metadata": {},
     "output_type": "execute_result"
    }
   ],
   "source": [
    "climate.head()"
   ]
  },
  {
   "cell_type": "code",
   "execution_count": 7,
   "id": "52abce46-b937-4db8-82e0-c0d54c95054a",
   "metadata": {},
   "outputs": [
    {
     "name": "stdout",
     "output_type": "stream",
     "text": [
      "Max Lat:  88.0\n",
      "Max Lon:  358.0\n",
      "Min Lat:  -18.0\n",
      "Min Lon:  0.0\n"
     ]
    }
   ],
   "source": [
    "print(\"Max Lat: \",max(climate['lat']))\n",
    "print(\"Max Lon: \",max(climate['lon']))\n",
    "print(\"Min Lat: \",min(climate['lat']))\n",
    "print(\"Min Lon: \",min(climate['lon']))"
   ]
  },
  {
   "cell_type": "code",
   "execution_count": 10,
   "id": "baf098a0-0ff5-47bd-88ac-0f43785d1643",
   "metadata": {},
   "outputs": [
    {
     "data": {
      "text/html": [
       "<div>\n",
       "<style scoped>\n",
       "    .dataframe tbody tr th:only-of-type {\n",
       "        vertical-align: middle;\n",
       "    }\n",
       "\n",
       "    .dataframe tbody tr th {\n",
       "        vertical-align: top;\n",
       "    }\n",
       "\n",
       "    .dataframe thead th {\n",
       "        text-align: right;\n",
       "    }\n",
       "</style>\n",
       "<table border=\"1\" class=\"dataframe\">\n",
       "  <thead>\n",
       "    <tr style=\"text-align: right;\">\n",
       "      <th></th>\n",
       "      <th>lat</th>\n",
       "      <th>lon</th>\n",
       "      <th>time</th>\n",
       "      <th>nbnds</th>\n",
       "      <th>time_bnds</th>\n",
       "      <th>sst</th>\n",
       "    </tr>\n",
       "  </thead>\n",
       "  <tbody>\n",
       "    <tr>\n",
       "      <th>0</th>\n",
       "      <td>64.0</td>\n",
       "      <td>300.0</td>\n",
       "      <td>1854-01-01</td>\n",
       "      <td>0</td>\n",
       "      <td>9.969210e+36</td>\n",
       "      <td>-1.8</td>\n",
       "    </tr>\n",
       "    <tr>\n",
       "      <th>1</th>\n",
       "      <td>64.0</td>\n",
       "      <td>300.0</td>\n",
       "      <td>1854-01-01</td>\n",
       "      <td>1</td>\n",
       "      <td>9.969210e+36</td>\n",
       "      <td>-1.8</td>\n",
       "    </tr>\n",
       "    <tr>\n",
       "      <th>2</th>\n",
       "      <td>64.0</td>\n",
       "      <td>300.0</td>\n",
       "      <td>1854-02-01</td>\n",
       "      <td>0</td>\n",
       "      <td>9.969210e+36</td>\n",
       "      <td>-1.8</td>\n",
       "    </tr>\n",
       "    <tr>\n",
       "      <th>3</th>\n",
       "      <td>64.0</td>\n",
       "      <td>300.0</td>\n",
       "      <td>1854-02-01</td>\n",
       "      <td>1</td>\n",
       "      <td>9.969210e+36</td>\n",
       "      <td>-1.8</td>\n",
       "    </tr>\n",
       "    <tr>\n",
       "      <th>4</th>\n",
       "      <td>64.0</td>\n",
       "      <td>300.0</td>\n",
       "      <td>1854-03-01</td>\n",
       "      <td>0</td>\n",
       "      <td>9.969210e+36</td>\n",
       "      <td>-1.8</td>\n",
       "    </tr>\n",
       "  </tbody>\n",
       "</table>\n",
       "</div>"
      ],
      "text/plain": [
       "    lat    lon        time  nbnds     time_bnds  sst\n",
       "0  64.0  300.0  1854-01-01      0  9.969210e+36 -1.8\n",
       "1  64.0  300.0  1854-01-01      1  9.969210e+36 -1.8\n",
       "2  64.0  300.0  1854-02-01      0  9.969210e+36 -1.8\n",
       "3  64.0  300.0  1854-02-01      1  9.969210e+36 -1.8\n",
       "4  64.0  300.0  1854-03-01      0  9.969210e+36 -1.8"
      ]
     },
     "execution_count": 10,
     "metadata": {},
     "output_type": "execute_result"
    }
   ],
   "source": [
    "query=\"\"\"\n",
    "SELECT *\n",
    "FROM climate\n",
    "WHERE lat<=65 AND lat>=45 AND lon>=300 AND lon<=345\n",
    "\"\"\"\n",
    "\n",
    "result_df = pd.read_sql_query(query, conn)\n",
    "result_df.head()"
   ]
  },
  {
   "cell_type": "code",
   "execution_count": 11,
   "id": "a5ce48e8-501a-4da3-869e-929320f85b0a",
   "metadata": {},
   "outputs": [],
   "source": [
    "result_df.to_csv('filtered_sst.csv',index=False)"
   ]
  }
 ],
 "metadata": {
  "kernelspec": {
   "display_name": "Python 3 (ipykernel)",
   "language": "python",
   "name": "python3"
  },
  "language_info": {
   "codemirror_mode": {
    "name": "ipython",
    "version": 3
   },
   "file_extension": ".py",
   "mimetype": "text/x-python",
   "name": "python",
   "nbconvert_exporter": "python",
   "pygments_lexer": "ipython3",
   "version": "3.9.21"
  }
 },
 "nbformat": 4,
 "nbformat_minor": 5
}
